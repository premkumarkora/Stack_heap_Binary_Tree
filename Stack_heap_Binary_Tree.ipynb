{
  "nbformat": 4,
  "nbformat_minor": 0,
  "metadata": {
    "colab": {
      "provenance": [],
      "collapsed_sections": [],
      "authorship_tag": "ABX9TyMbgT5vnyG1s6++ku3NhNql"
    },
    "kernelspec": {
      "name": "python3",
      "display_name": "Python 3"
    },
    "language_info": {
      "name": "python"
    }
  },
  "cells": [
    {
      "cell_type": "markdown",
      "source": [
        "# Last-In/First-Out (LIFO) or First-In/Last-Out (FILO)\n",
        "\n",
        "There are three implementation \n",
        "# Stack\n",
        "# collections.deque\n",
        "# queue module\n"
      ],
      "metadata": {
        "id": "4kZUnKpkQXSz"
      }
    },
    {
      "cell_type": "markdown",
      "source": [
        "# Stack\n",
        "Stack is a simple data structure and it stores elements like pile of plates. Operation in stack is done on top of stack meaning, we can perform insertion and deletion on top pointer of stack.\n",
        "\n",
        "Consider a pile of 10 numbered plates with 1 at the bottom and 10 at the top, to remove plate 5, we need to remove 10, 9, 8, 7, 6 then 5 in that order, to perform deletion. This procedure of deletion or accessing an element is called Last In First Out (LIFO). The things that comes last, will be removed first.\n",
        "\n",
        "A stack is a linear data structure that stores items in a Last-In/First-Out (LIFO) or First-In/Last-Out (FILO) manner. In stack, a new element is added at one end and an element is removed from that end only. The insert and delete operations are often called push and pop.\n",
        "\n",
        "# Basic operations in Stack\n",
        "\n",
        "Push — Adding element at the top of the stack\n",
        "\n",
        "Pop — Removing the top element from stack\n",
        "\n",
        "isEmpty — Check if stack is empty or not\n",
        "\n",
        "size() – Returns the size of the stack\n",
        "\n",
        "top() / peek() – Returns a reference to the topmost element\n",
        " of the stack \n",
        " \n",
        "isFull — Check if stack is full or not"
      ],
      "metadata": {
        "id": "n9RzDu_cMBf4"
      }
    },
    {
      "cell_type": "code",
      "source": [
        "# Python program to\n",
        "# demonstrate stack implementation\n",
        "# using list\n",
        " \n",
        "stack = []\n",
        " \n",
        "# append() function to push\n",
        "# element in the stack\n",
        "stack.append('a')\n",
        "stack.append('b')\n",
        "stack.append('c')\n",
        "stack.append([1,2,3,4,5])\n",
        "stack.append(1)\n",
        "stack.append(2)\n",
        "stack.append(3)\n",
        " \n",
        "print('Initial stack')\n",
        "print(stack)\n",
        " \n",
        "# pop() function to pop\n",
        "# element from stack in\n",
        "# LIFO order\n",
        "print('\\nElements popped from stack:')\n",
        "print(stack.pop())\n",
        "print(stack.pop())\n",
        "print(stack.pop())\n",
        "print(stack.pop())\n",
        " \n",
        "print('\\nStack after elements are popped:')\n",
        "print(stack)\n",
        " \n",
        "# uncommenting print(stack.pop())\n",
        "# will cause an IndexError\n",
        "# as the stack is now empty"
      ],
      "metadata": {
        "colab": {
          "base_uri": "https://localhost:8080/"
        },
        "id": "iSDsU4wlMpeB",
        "outputId": "cc17126d-2b1c-42cf-ad0a-80aa0ac1d9c5"
      },
      "execution_count": null,
      "outputs": [
        {
          "output_type": "stream",
          "name": "stdout",
          "text": [
            "Initial stack\n",
            "['a', 'b', 'c', [1, 2, 3, 4, 5], 1, 2, 3]\n",
            "\n",
            "Elements popped from stack:\n",
            "3\n",
            "2\n",
            "1\n",
            "[1, 2, 3, 4, 5]\n",
            "\n",
            "Stack after elements are popped:\n",
            "['a', 'b', 'c']\n"
          ]
        }
      ]
    },
    {
      "cell_type": "markdown",
      "source": [
        "# Implementation using collections.deque:\n",
        "Python stack can be implemented using the deque class from the collections module. Deque is preferred over the list in the cases where we need quicker append and pop operations from both the ends of the container, as deque provides an O(1) time complexity for append and pop operations as compared to list which provides O(n) time complexity. \n",
        "\n"
      ],
      "metadata": {
        "id": "f7n5v2J5OzfI"
      }
    },
    {
      "cell_type": "code",
      "source": [
        "# Python program to\n",
        "# demonstrate stack implementation\n",
        "# using collections.deque\n",
        " \n",
        "from collections import deque\n",
        " \n",
        "stack = deque()\n",
        " \n",
        "# append() function to push\n",
        "# element in the stack\n",
        "stack.append('a')\n",
        "stack.append('b')\n",
        "stack.append('c')\n",
        "stack.append([1,2,3,4,5])\n",
        "stack.append(1)\n",
        "stack.append(2)\n",
        "stack.append(3)\n",
        " \n",
        "print('Initial stack:')\n",
        "print(stack)\n",
        " \n",
        "# pop() function to pop\n",
        "# element from stack in\n",
        "# LIFO order\n",
        "print('\\nElements popped from stack:')\n",
        "print(stack.pop())\n",
        "print(stack.pop())\n",
        "print(stack.pop())\n",
        "print(stack.pop())\n",
        " \n",
        "print('\\nStack after elements are popped:')\n",
        "print(stack)\n",
        " \n",
        "# uncommenting print(stack.pop())\n",
        "# will cause an IndexError\n",
        "# as the stack is now empty"
      ],
      "metadata": {
        "colab": {
          "base_uri": "https://localhost:8080/"
        },
        "id": "oHoFDZcuPAxK",
        "outputId": "4b5f2e91-1738-49c4-daef-97b407370cd4"
      },
      "execution_count": null,
      "outputs": [
        {
          "output_type": "stream",
          "name": "stdout",
          "text": [
            "Initial stack:\n",
            "deque(['a', 'b', 'c', [1, 2, 3, 4, 5], 1, 2, 3])\n",
            "\n",
            "Elements popped from stack:\n",
            "3\n",
            "2\n",
            "1\n",
            "[1, 2, 3, 4, 5]\n",
            "\n",
            "Stack after elements are popped:\n",
            "deque(['a', 'b', 'c'])\n"
          ]
        }
      ]
    },
    {
      "cell_type": "markdown",
      "source": [
        "# queue module\n",
        "\n",
        "Queue module also has a LIFO Queue, which is basically a Stack. Data is inserted into Queue using the put() function and get() takes data out from the Queue. \n",
        "\n",
        "There are various functions available in this module: \n",
        "\n",
        "maxsize – Number of items allowed in the queue.\n",
        "\n",
        "empty() – Return True if the queue is empty, False otherwise.\n",
        "\n",
        "full() – Return True if there are maxsize items in the queue. If the queue was initialized with maxsize=0 (the default), then full() never returns True.\n",
        "\n",
        "get() – Remove and return an item from the queue. If the queue is empty, wait until an item is available.\n",
        "\n",
        "get_nowait() – Return an item if one is immediately available, else raise QueueEmpty.\n",
        "\n",
        "put(item) – Put an item into the queue. If the queue is full, wait until a free slot is available before adding the item.\n",
        "\n",
        "put_nowait(item) – Put an item into the queue without blocking. If no free slot is immediately available, raise QueueFull.\n",
        "\n",
        "qsize() – Return the number of items in the queue."
      ],
      "metadata": {
        "id": "pgFkqYqDPYUs"
      }
    },
    {
      "cell_type": "code",
      "source": [
        "# Python program to\n",
        "# demonstrate stack implementation\n",
        "# using queue module\n",
        " \n",
        "from queue import LifoQueue\n",
        " \n",
        "# Initializing a stack\n",
        "stack = LifoQueue(maxsize=3)\n",
        " \n",
        "# qsize() show the number of elements\n",
        "# in the stack\n",
        "print(stack.qsize())\n",
        " \n",
        "# put() function to push\n",
        "# element in the stack\n",
        "stack.put('a')\n",
        "stack.put('b')\n",
        "stack.put('c')\n",
        " \n",
        "print(\"Full: \", stack.full())\n",
        "print(\"Size: \", stack.qsize())\n",
        " \n",
        "# get() function to pop\n",
        "# element from stack in\n",
        "# LIFO order\n",
        "print('\\nElements popped from the stack')\n",
        "print(stack.get())\n",
        "print(stack.get())\n",
        "print(stack.get())\n",
        " \n",
        "print(\"\\nEmpty: \", stack.empty())"
      ],
      "metadata": {
        "colab": {
          "base_uri": "https://localhost:8080/"
        },
        "id": "svzcTz0pPbc2",
        "outputId": "660233be-d806-4d6d-c056-adff6686ea66"
      },
      "execution_count": null,
      "outputs": [
        {
          "output_type": "stream",
          "name": "stdout",
          "text": [
            "0\n",
            "Full:  True\n",
            "Size:  3\n",
            "\n",
            "Elements popped from the stack\n",
            "c\n",
            "b\n",
            "a\n",
            "\n",
            "Empty:  True\n"
          ]
        }
      ]
    },
    {
      "cell_type": "markdown",
      "source": [
        "# Binary Tree\n",
        "\n",
        "1. Full Binary Tree\n",
        "A full Binary tree is a special type of binary tree in which every parent node/internal node has either two or no children.\n",
        "\n",
        "2. Perfect Binary Tree\n",
        "A perfect binary tree is a type of binary tree in which every internal node has exactly two child nodes and all the leaf nodes are at the same level.\n",
        "\n",
        "![Binary Tree.png](data:image/png;base64,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)"
      ],
      "metadata": {
        "id": "iq3Hl7AbSka9"
      }
    },
    {
      "cell_type": "markdown",
      "source": [
        "# Heap data structure \n",
        "\n",
        "*   The Heap data structure can be used to efficiently find the kth smallest (or largest) element in an array.\n",
        "*   Whenever elements are pushed or popped, heap structure is maintained. The heap[0] element also returns the smallest element each time. Let’s see various Operations on the heap in Python.\n",
        "\n",
        "**Creating a simple heap**\n",
        "The heapify(iterable):- This function is used to convert the iterable into a heap data structure.\n",
        "\n",
        "\n",
        "\n",
        "\n",
        "\n",
        "\n",
        "\n"
      ],
      "metadata": {
        "id": "dKP4ODQ3--Qk"
      }
    },
    {
      "cell_type": "code",
      "execution_count": null,
      "metadata": {
        "colab": {
          "base_uri": "https://localhost:8080/"
        },
        "id": "ycTOo-HL93vS",
        "outputId": "f3b91708-ceef-4c3d-c5c4-f28f5db9772d"
      },
      "outputs": [
        {
          "output_type": "stream",
          "name": "stdout",
          "text": [
            "[1, 3, 4, 7, 5, 11, 9]\n",
            "The created heap is :  [1, 3, 4, 7, 5, 11, 9]\n"
          ]
        }
      ],
      "source": [
        "# importing \"heapq\" to implement heap queue\n",
        "import heapq\n",
        " \n",
        "# initializing list\n",
        "li = [5, 7, 9, 1, 3, 11, 4]\n",
        " \n",
        "# using heapify to convert list into heap\n",
        "heapq.heapify(li)\n",
        " \n",
        "# printing created heap\n",
        "print (\"The created heap is : \",(list(li)))"
      ]
    },
    {
      "cell_type": "markdown",
      "source": [
        "# Appending and Popping Items Efficiently\n",
        "# heappush(heap, ele): \n",
        "This function is used to insert the element mentioned in its arguments into a heap. The order is adjusted, so that heap structure is maintained.\n",
        "# heappop(heap): \n",
        "This function is used to remove and return the ***smallest element*** from the heap. The order is adjusted, so that heap structure is maintained."
      ],
      "metadata": {
        "id": "BjBPc-Dp_6rf"
      }
    },
    {
      "cell_type": "markdown",
      "source": [],
      "metadata": {
        "id": "f0x16bF1_6an"
      }
    },
    {
      "cell_type": "code",
      "source": [
        "# importing \"heapq\" to implement heap queue\n",
        "import heapq\n",
        " \n",
        "# initializing list\n",
        "li = [5, 7, 9, 1, 3]\n",
        " \n",
        "# using heapify to convert list into heap\n",
        "heapq.heapify(li)\n",
        " \n",
        "# printing created heap\n",
        "print(\"The created heap is : \", end=\"\")\n",
        "print(list(li))\n",
        " \n",
        "# using heappush() to push elements into heap\n",
        "# pushes 4\n",
        "heapq.heappush(li, 4)\n",
        " \n",
        "# printing modified heap\n",
        "print(\"The modified heap after push is : \", end=\"\")\n",
        "print(list(li))\n",
        " \n",
        "# using heappop() to pop smallest element\n",
        "print(\"The popped and smallest element is : \", end=\"\")\n",
        "print(heapq.heappop(li))\n",
        "\n",
        "print(\"The modified heap after POP is : \", end=\"\")\n",
        "print(list(li))"
      ],
      "metadata": {
        "colab": {
          "base_uri": "https://localhost:8080/"
        },
        "id": "MR9xjI8g_5gF",
        "outputId": "f65c7293-58a9-4beb-d0d6-91391279e3f8"
      },
      "execution_count": null,
      "outputs": [
        {
          "output_type": "stream",
          "name": "stdout",
          "text": [
            "The created heap is : [1, 3, 9, 7, 5]\n",
            "The modified heap after push is : [1, 3, 4, 7, 5, 9]\n",
            "The popped and smallest element is : 1\n",
            "The modified heap after POP is : [3, 5, 4, 7, 9]\n"
          ]
        }
      ]
    },
    {
      "cell_type": "markdown",
      "source": [
        "# Appending and Popping simultaneously\n",
        "# heappushpop(heap, ele):- \n",
        "This function combines the functioning of both push and pop operations in one statement, increasing efficiency. Heap order is maintained after this operation.\n",
        "# heapreplace(heap, ele):- \n",
        "This function also inserts and pops elements in one statement, but it is different from the above function. In this, the element is first popped, then the element is pushed. i.e, the value larger than the pushed value can be returned. heapreplace() returns the smallest value originally in the heap regardless of the pushed element as opposed to heappushpop()."
      ],
      "metadata": {
        "id": "AH9Zx1-OBYEh"
      }
    },
    {
      "cell_type": "code",
      "source": [
        "# importing \"heapq\" to implement heap queue\n",
        "import heapq\n",
        " \n",
        "# initializing list 1\n",
        "li1 = [5, 1, 9, 4, 3]\n",
        " \n",
        "# initializing list 2\n",
        "li2 = [5, 7, 9, 4, 3]\n",
        " \n",
        "# using heapify() to convert list into heap\n",
        "heapq.heapify(li1)\n",
        "heapq.heapify(li2)\n",
        "\n",
        "#printing after heapfy ing\n",
        "print(\"After Heapfy ing  Li1== \", li1)\n",
        "print(\"After Heapfy ing  Li1== \", li2)\n",
        " \n",
        "# using heappushpop() to push and pop items simultaneously\n",
        "# pops 2\n",
        "print(\"The popped item using heappushpop() is : \", end=\"\")\n",
        "print(heapq.heappushpop(li1, 2))\n",
        " \n",
        "# using heapreplace() to push and pop items simultaneously\n",
        "# pops 3\n",
        "print(\"The popped item using heapreplace() is : \", end=\"\")\n",
        "print(heapq.heapreplace(li2, 2))\n",
        "\n",
        "print(\"After heappushpop Li1 1 removed and 2 inserted == \", li1)\n",
        "print(\"After heapreplace  Li2 3 removed and 2 inserted == \", li2)"
      ],
      "metadata": {
        "colab": {
          "base_uri": "https://localhost:8080/"
        },
        "id": "ACOzyvLTBXRa",
        "outputId": "333f5b0e-0569-4796-fc45-a0aeb9096918"
      },
      "execution_count": null,
      "outputs": [
        {
          "output_type": "stream",
          "name": "stdout",
          "text": [
            "After Heapfy ing  Li1==  [1, 3, 9, 4, 5]\n",
            "After Heapfy ing  Li1==  [3, 4, 9, 5, 7]\n",
            "The popped item using heappushpop() is : 1\n",
            "The popped item using heapreplace() is : 3\n",
            "After heappushpop Li1 1 removed and 2 inserted ==  [2, 3, 9, 4, 5]\n",
            "After heapreplace  Li2 3 removed and 2 inserted ==  [2, 4, 9, 5, 7]\n"
          ]
        }
      ]
    },
    {
      "cell_type": "markdown",
      "source": [
        "# Find the largest and smallest elements from Heap in Python\n",
        "# nlargest(k, iterable, key = fun): \n",
        "This function is used to return the k largest elements from the iterable specified and satisfy the key if mentioned.\n",
        "# nsmallest(k, iterable, key = fun): \n",
        "This function is used to return the k smallest elements from the iterable specified and satisfy the key if mentioned."
      ],
      "metadata": {
        "id": "uQhI4_-hDhbE"
      }
    },
    {
      "cell_type": "code",
      "source": [
        "# Python code to demonstrate working of\n",
        "# nlargest() and nsmallest()\n",
        " \n",
        "# importing \"heapq\" to implement heap queue\n",
        "import heapq\n",
        " \n",
        "# initializing list\n",
        "li1 = [6, 7, 9, 4, 3, 5, 8, 10, 1]\n",
        " \n",
        "# using heapify() to convert list into heap\n",
        "heapq.heapify(li1)\n",
        "\n",
        "print(li1)\n",
        " \n",
        "# using nlargest to print 3 largest numbers\n",
        "# prints 10, 9 and 8\n",
        "print(\"The 3 largest numbers in list are : \", end=\"\")\n",
        "print(heapq.nlargest(3, li1))\n",
        " \n",
        "# using nsmallest to print 3 smallest numbers\n",
        "# prints 1, 3 and 4\n",
        "print(\"The 3 smallest numbers in list are : \", end=\"\")\n",
        "print(heapq.nsmallest(3, li1))"
      ],
      "metadata": {
        "colab": {
          "base_uri": "https://localhost:8080/"
        },
        "id": "d5Bz40ISDgrT",
        "outputId": "070b7da7-4fdc-472f-b2c7-885904a31da0"
      },
      "execution_count": null,
      "outputs": [
        {
          "output_type": "stream",
          "name": "stdout",
          "text": [
            "[1, 3, 5, 4, 6, 9, 8, 10, 7]\n",
            "The 3 largest numbers in list are : [10, 9, 8]\n",
            "The 3 smallest numbers in list are : [1, 3, 4]\n"
          ]
        }
      ]
    }
  ]
}